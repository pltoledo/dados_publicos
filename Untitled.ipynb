{
 "cells": [
  {
   "cell_type": "code",
   "execution_count": 1,
   "id": "5ebb505d",
   "metadata": {},
   "outputs": [],
   "source": [
    "from src.cnpj.crawler import CrawlerCNPJ"
   ]
  },
  {
   "cell_type": "code",
   "execution_count": 3,
   "id": "2fa2f27d",
   "metadata": {},
   "outputs": [],
   "source": [
    "crawler = CrawlerCNPJ('data/')"
   ]
  },
  {
   "cell_type": "code",
   "execution_count": 5,
   "id": "bf0b35e1",
   "metadata": {},
   "outputs": [
    {
     "data": {
      "text/plain": [
       "['F.K03200$W.SIMPLES.CSV.D10710.zip',\n",
       " 'F.K03200$Z.D10710.CNAECSV.zip',\n",
       " 'F.K03200$Z.D10710.MOTICSV.zip',\n",
       " 'F.K03200$Z.D10710.MUNICCSV.zip',\n",
       " 'F.K03200$Z.D10710.NATJUCSV.zip',\n",
       " 'F.K03200$Z.D10710.PAISCSV.zip',\n",
       " 'F.K03200$Z.D10710.QUALSCSV.zip',\n",
       " 'K3241.K03200Y0.D10710.EMPRECSV.zip',\n",
       " 'K3241.K03200Y0.D10710.ESTABELE.zip',\n",
       " 'K3241.K03200Y0.D10710.SOCIOCSV.zip',\n",
       " 'K3241.K03200Y1.D10710.EMPRECSV.zip',\n",
       " 'K3241.K03200Y1.D10710.ESTABELE.zip',\n",
       " 'K3241.K03200Y1.D10710.SOCIOCSV.zip',\n",
       " 'K3241.K03200Y2.D10710.EMPRECSV.zip',\n",
       " 'K3241.K03200Y2.D10710.ESTABELE.zip',\n",
       " 'K3241.K03200Y2.D10710.SOCIOCSV.zip',\n",
       " 'K3241.K03200Y3.D10710.EMPRECSV.zip',\n",
       " 'K3241.K03200Y3.D10710.ESTABELE.zip',\n",
       " 'K3241.K03200Y3.D10710.SOCIOCSV.zip',\n",
       " 'K3241.K03200Y4.D10710.EMPRECSV.zip',\n",
       " 'K3241.K03200Y4.D10710.ESTABELE.zip',\n",
       " 'K3241.K03200Y4.D10710.SOCIOCSV.zip',\n",
       " 'K3241.K03200Y5.D10710.EMPRECSV.zip',\n",
       " 'K3241.K03200Y5.D10710.ESTABELE.zip',\n",
       " 'K3241.K03200Y5.D10710.SOCIOCSV.zip',\n",
       " 'K3241.K03200Y6.D10710.EMPRECSV.zip',\n",
       " 'K3241.K03200Y6.D10710.ESTABELE.zip',\n",
       " 'K3241.K03200Y6.D10710.SOCIOCSV.zip',\n",
       " 'K3241.K03200Y7.D10710.EMPRECSV.zip',\n",
       " 'K3241.K03200Y7.D10710.ESTABELE.zip',\n",
       " 'K3241.K03200Y7.D10710.SOCIOCSV.zip',\n",
       " 'K3241.K03200Y8.D10710.EMPRECSV.zip',\n",
       " 'K3241.K03200Y8.D10710.ESTABELE.zip',\n",
       " 'K3241.K03200Y8.D10710.SOCIOCSV.zip',\n",
       " 'K3241.K03200Y9.D10710.EMPRECSV.zip',\n",
       " 'K3241.K03200Y9.D10710.ESTABELE.zip',\n",
       " 'K3241.K03200Y9.D10710.SOCIOCSV.zip']"
      ]
     },
     "execution_count": 5,
     "metadata": {},
     "output_type": "execute_result"
    }
   ],
   "source": [
    "crawler.files"
   ]
  }
 ],
 "metadata": {
  "kernelspec": {
   "display_name": "Python 3",
   "language": "python",
   "name": "python3"
  },
  "language_info": {
   "codemirror_mode": {
    "name": "ipython",
    "version": 3
   },
   "file_extension": ".py",
   "mimetype": "text/x-python",
   "name": "python",
   "nbconvert_exporter": "python",
   "pygments_lexer": "ipython3",
   "version": "3.8.8"
  }
 },
 "nbformat": 4,
 "nbformat_minor": 5
}
