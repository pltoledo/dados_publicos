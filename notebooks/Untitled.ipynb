{
 "cells": [
  {
   "cell_type": "code",
   "execution_count": 1,
   "id": "11623f99",
   "metadata": {},
   "outputs": [],
   "source": [
    "from src.cnpj.crawler import CrawlerCNPJ"
   ]
  },
  {
   "cell_type": "code",
   "execution_count": 2,
   "id": "125fd20e",
   "metadata": {},
   "outputs": [],
   "source": [
    "crawler = CrawlerCNPJ('data/')"
   ]
  },
  {
   "cell_type": "code",
   "execution_count": null,
   "id": "6aff9377",
   "metadata": {},
   "outputs": [],
   "source": [
    "crawler.get_data()"
   ]
  },
  {
   "cell_type": "code",
   "execution_count": null,
   "id": "9727e863",
   "metadata": {},
   "outputs": [],
   "source": [
    "crawler.unzip()"
   ]
  },
  {
   "cell_type": "code",
   "execution_count": 2,
   "id": "fc431213-ae76-4dfd-ab5d-c47b807f2b99",
   "metadata": {},
   "outputs": [],
   "source": [
    "import os"
   ]
  },
  {
   "cell_type": "code",
   "execution_count": 45,
   "id": "dbbf7dc0-d67f-42c1-9667-a6c6455d9bfc",
   "metadata": {},
   "outputs": [],
   "source": [
    "files = os.listdir('../data')"
   ]
  },
  {
   "cell_type": "code",
   "execution_count": 14,
   "id": "fc14fba4-aea7-4fa4-b68a-f2659e7d162e",
   "metadata": {},
   "outputs": [],
   "source": [
    "files = ['F.K03200$Z.D10710.CNAECSV', 'F.K03200$Z.D10710.MUNICCSV', 'F.K03200$Z.D10710.NATJUCSV', 'F.K03200$Z.D10710.PAISCSV', 'F.K03200$Z.D10710.QUALSCSV', 'F.K03200$Z.D10710.MOTICSV',]"
   ]
  },
  {
   "cell_type": "code",
   "execution_count": 5,
   "id": "4c75d95a-0ee8-4fd3-b020-b0709b38c629",
   "metadata": {},
   "outputs": [],
   "source": [
    "file_ids = ['CNAE', 'MUNIC', 'NATJU', 'PAIS', 'QUALS', 'MOTI']"
   ]
  },
  {
   "cell_type": "code",
   "execution_count": 12,
   "id": "78e9efee-bb02-471e-89ea-f8469458a73d",
   "metadata": {},
   "outputs": [
    {
     "data": {
      "text/plain": [
       "['CNAE', 'MUNIC', 'NATJU', 'PAIS', 'QUALS', 'MOTI']"
      ]
     },
     "execution_count": 12,
     "metadata": {},
     "output_type": "execute_result"
    }
   ],
   "source": [
    "file_ids"
   ]
  },
  {
   "cell_type": "code",
   "execution_count": 30,
   "id": "2912bbb2-63ad-442a-9d97-7bb9a3dd619c",
   "metadata": {},
   "outputs": [],
   "source": [
    "import sys\n",
    "\n",
    "sys.path.append('../src')"
   ]
  },
  {
   "cell_type": "code",
   "execution_count": 31,
   "id": "d4178b43-7457-4ad3-b133-29de9ce49e5a",
   "metadata": {},
   "outputs": [],
   "source": [
    "from util import *"
   ]
  },
  {
   "cell_type": "code",
   "execution_count": 49,
   "id": "ac3f90ba-a3b5-47f0-9c29-24c4080a55ca",
   "metadata": {},
   "outputs": [
    {
     "data": {
      "text/plain": [
       "'../data/F.K03200$Z.D10710.CNAECSV/*'"
      ]
     },
     "execution_count": 49,
     "metadata": {},
     "output_type": "execute_result"
    }
   ],
   "source": [
    "join_path('../data', 'F.K03200$Z.D10710.CNAECSV', '*')"
   ]
  },
  {
   "cell_type": "code",
   "execution_count": 9,
   "id": "94c56bdf-e4a9-4429-acb6-a2051ff7cefd",
   "metadata": {},
   "outputs": [
    {
     "data": {
      "text/html": [
       "<div>\n",
       "<style scoped>\n",
       "    .dataframe tbody tr th:only-of-type {\n",
       "        vertical-align: middle;\n",
       "    }\n",
       "\n",
       "    .dataframe tbody tr th {\n",
       "        vertical-align: top;\n",
       "    }\n",
       "\n",
       "    .dataframe thead th {\n",
       "        text-align: right;\n",
       "    }\n",
       "</style>\n",
       "<table border=\"1\" class=\"dataframe\">\n",
       "  <thead>\n",
       "    <tr style=\"text-align: right;\">\n",
       "      <th></th>\n",
       "      <th>_c0</th>\n",
       "      <th>_c1</th>\n",
       "      <th>_c2</th>\n",
       "      <th>_c3</th>\n",
       "      <th>_c4</th>\n",
       "      <th>_c5</th>\n",
       "      <th>_c6</th>\n",
       "      <th>teste</th>\n",
       "    </tr>\n",
       "  </thead>\n",
       "  <tbody>\n",
       "    <tr>\n",
       "      <th>0</th>\n",
       "      <td>00000006</td>\n",
       "      <td>N</td>\n",
       "      <td>20180101</td>\n",
       "      <td>20191231</td>\n",
       "      <td>N</td>\n",
       "      <td>00000000</td>\n",
       "      <td>00000000</td>\n",
       "      <td>2018-01-01</td>\n",
       "    </tr>\n",
       "    <tr>\n",
       "      <th>1</th>\n",
       "      <td>00000008</td>\n",
       "      <td>S</td>\n",
       "      <td>20140101</td>\n",
       "      <td>00000000</td>\n",
       "      <td>N</td>\n",
       "      <td>00000000</td>\n",
       "      <td>00000000</td>\n",
       "      <td>2014-01-01</td>\n",
       "    </tr>\n",
       "    <tr>\n",
       "      <th>2</th>\n",
       "      <td>00000011</td>\n",
       "      <td>S</td>\n",
       "      <td>20070701</td>\n",
       "      <td>00000000</td>\n",
       "      <td>N</td>\n",
       "      <td>00000000</td>\n",
       "      <td>00000000</td>\n",
       "      <td>2007-07-01</td>\n",
       "    </tr>\n",
       "    <tr>\n",
       "      <th>3</th>\n",
       "      <td>00000013</td>\n",
       "      <td>S</td>\n",
       "      <td>20090101</td>\n",
       "      <td>00000000</td>\n",
       "      <td>N</td>\n",
       "      <td>00000000</td>\n",
       "      <td>00000000</td>\n",
       "      <td>2009-01-01</td>\n",
       "    </tr>\n",
       "    <tr>\n",
       "      <th>4</th>\n",
       "      <td>00000015</td>\n",
       "      <td>N</td>\n",
       "      <td>20070701</td>\n",
       "      <td>20081231</td>\n",
       "      <td>N</td>\n",
       "      <td>00000000</td>\n",
       "      <td>00000000</td>\n",
       "      <td>2007-07-01</td>\n",
       "    </tr>\n",
       "  </tbody>\n",
       "</table>\n",
       "</div>"
      ],
      "text/plain": [
       "        _c0 _c1       _c2       _c3 _c4       _c5       _c6       teste\n",
       "0  00000006   N  20180101  20191231   N  00000000  00000000  2018-01-01\n",
       "1  00000008   S  20140101  00000000   N  00000000  00000000  2014-01-01\n",
       "2  00000011   S  20070701  00000000   N  00000000  00000000  2007-07-01\n",
       "3  00000013   S  20090101  00000000   N  00000000  00000000  2009-01-01\n",
       "4  00000015   N  20070701  20081231   N  00000000  00000000  2007-07-01"
      ]
     },
     "execution_count": 9,
     "metadata": {},
     "output_type": "execute_result"
    }
   ],
   "source": [
    "spark.read.option(\"encoding\", \"ISO-8859-1\").option(\"sep\", \";\").csv('../data/F.K03200$W.SIMPLES.CSV.D10911')\\\n",
    ".withColumn('teste', to_date(\"_c2\", 'yyyyMMdd')).limit(5).toPandas()"
   ]
  },
  {
   "cell_type": "code",
   "execution_count": 2,
   "id": "5cb00fda-f80e-43c1-ab32-a2a442a0cbf7",
   "metadata": {},
   "outputs": [],
   "source": [
    "spark = SparkSession.builder.getOrCreate()"
   ]
  },
  {
   "cell_type": "code",
   "execution_count": 6,
   "id": "0c56bedf-fc87-481b-b497-0c0cbbf6dc4a",
   "metadata": {},
   "outputs": [],
   "source": [
    "from pyspark.sql import SparkSession\n",
    "from pyspark.sql.functions import to_date"
   ]
  },
  {
   "cell_type": "code",
   "execution_count": 18,
   "id": "747aeb42-f984-4b83-9313-4cd906fc2a58",
   "metadata": {},
   "outputs": [],
   "source": [
    "data_name = 'CNAE'.lower()\n",
    "cols = [f'cod_{data_name}', f'nome_{data_name}']"
   ]
  },
  {
   "cell_type": "code",
   "execution_count": 20,
   "id": "4e65d11c-f12d-4cb3-a7dc-96cab1222a35",
   "metadata": {},
   "outputs": [
    {
     "data": {
      "text/plain": [
       "'cod_cnae STRING, nome_cnae STRING'"
      ]
     },
     "execution_count": 20,
     "metadata": {},
     "output_type": "execute_result"
    }
   ],
   "source": [
    "', '.join([c + ' STRING' for c in cols])"
   ]
  },
  {
   "cell_type": "code",
   "execution_count": 15,
   "id": "2a3c9b93-d717-4f38-8ad2-0b2b6cbc70ca",
   "metadata": {},
   "outputs": [
    {
     "data": {
      "text/plain": [
       "['F.K03200$Z.D10710.CNAECSV',\n",
       " 'F.K03200$Z.D10710.MUNICCSV',\n",
       " 'F.K03200$Z.D10710.NATJUCSV',\n",
       " 'F.K03200$Z.D10710.PAISCSV',\n",
       " 'F.K03200$Z.D10710.QUALSCSV',\n",
       " 'F.K03200$Z.D10710.MOTICSV']"
      ]
     },
     "execution_count": 15,
     "metadata": {},
     "output_type": "execute_result"
    }
   ],
   "source": [
    "[f for n in file_ids for f in files if f.endswith(n + 'CSV')]"
   ]
  },
  {
   "cell_type": "code",
   "execution_count": null,
   "id": "5a2480ff-8e05-4cb1-b419-bc2e950244fa",
   "metadata": {},
   "outputs": [],
   "source": [
    "[f for f in files if f.endswith('CSV') and re.search('(?<=\\d\\\\.).*?(?=CSV)', f).group(0) in file_ids]"
   ]
  }
 ],
 "metadata": {
  "kernelspec": {
   "display_name": "Python 3",
   "language": "python",
   "name": "python3"
  },
  "language_info": {
   "codemirror_mode": {
    "name": "ipython",
    "version": 3
   },
   "file_extension": ".py",
   "mimetype": "text/x-python",
   "name": "python",
   "nbconvert_exporter": "python",
   "pygments_lexer": "ipython3",
   "version": "3.8.8"
  }
 },
 "nbformat": 4,
 "nbformat_minor": 5
}
